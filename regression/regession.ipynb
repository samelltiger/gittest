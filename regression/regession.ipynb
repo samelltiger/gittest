{
 "cells": [
  {
   "cell_type": "code",
   "execution_count": 34,
   "metadata": {},
   "outputs": [],
   "source": [
    "from numpy import *\n",
    "import matplotlib.pyplot as plt"
   ]
  },
  {
   "cell_type": "markdown",
   "metadata": {},
   "source": [
    "## 首先定义标准回归函数和数据导入函数"
   ]
  },
  {
   "cell_type": "code",
   "execution_count": 35,
   "metadata": {},
   "outputs": [],
   "source": [
    "# 数据导入函数\n",
    "def loadDataSet(fileName):\n",
    "    numFeat = len(open(fileName).readline().split('\\t')) -1 \n",
    "    dataMat = []\n",
    "    labelMat = []\n",
    "    fr = open(fileName)\n",
    "    for line in fr.readlines():\n",
    "        lineArr = []\n",
    "        curLine = line.strip().split('\\t')\n",
    "        for i in range(numFeat):\n",
    "            lineArr.append(float(curLine[i]))\n",
    "        dataMat.append(lineArr)\n",
    "        labelMat.append(float(curLine[-1]))\n",
    "    return dataMat,labelMat\n",
    "\n",
    "# 标准回归函数\n",
    "def standRegres(xArr,yArr):\n",
    "    xMat = mat(xArr)\n",
    "    yMat = mat(yArr).T\n",
    "    xTx  = xMat.T * xMat\n",
    "    if linalg.det(xTx) == 0.0:\n",
    "        print('该矩阵行列式为0,错误运算！')\n",
    "        return\n",
    "    ws = xTx.I * (xMat.T * yMat)\n",
    "    return ws"
   ]
  },
  {
   "cell_type": "markdown",
   "metadata": {},
   "source": [
    "## 调用上面定义的函数读取数据并进行回归\n",
    "* **数据说明：** \n",
    "    1. xArr的第一个总是为1.0,即$X_0$,我们假定偏移量就是一个常数，\n",
    "    2. 第二个值$X_1$，也就是横坐标值"
   ]
  },
  {
   "cell_type": "code",
   "execution_count": 36,
   "metadata": {},
   "outputs": [
    {
     "name": "stdout",
     "output_type": "stream",
     "text": [
      "xArr中的前5个数据: [[1.0, 0.067732], [1.0, 0.42781], [1.0, 0.995731], [1.0, 0.738336], [1.0, 0.981083]]\n",
      "yArr中的前5个数据: [3.176513, 3.816464, 4.550095, 4.256571, 4.560815]\n"
     ]
    }
   ],
   "source": [
    "# 导入数据\n",
    "xArr,yArr = loadDataSet('ex0.txt')\n",
    "# 查看一下里面的数据\n",
    "print(\"xArr中的前5个数据:\",xArr[:5])\n",
    "print(\"yArr中的前5个数据:\",yArr[:5])"
   ]
  },
  {
   "cell_type": "code",
   "execution_count": 37,
   "metadata": {},
   "outputs": [
    {
     "data": {
      "image/png": "[encoded data removed]",
      "text/plain": [
       "<matplotlib.figure.Figure at 0x7fe5c0bb5ef0>"
      ]
     },
     "metadata": {},
     "output_type": "display_data"
    }
   ],
   "source": [
    "xMat = mat(xArr)\n",
    "yMat = mat(yArr)\n",
    "\n",
    "fig = plt.figure()\n",
    "ax  = fig.add_subplot(111)\n",
    "ax.scatter(xMat[:,1].flatten().A[0],yMat.T[:,0].flatten().A[0])\n",
    "plt.show()"
   ]
  },
  {
   "cell_type": "code",
   "execution_count": 38,
   "metadata": {},
   "outputs": [
    {
     "name": "stdout",
     "output_type": "stream",
     "text": [
      "预测的回归系数为： [[3.00774324]\n",
      " [1.69532264]]\n"
     ]
    }
   ],
   "source": [
    "# 看一下函数的预测结果\n",
    "ws = standRegres(xArr,yArr)\n",
    "print('预测的回归系数为：',ws)"
   ]
  },
  {
   "cell_type": "markdown",
   "metadata": {},
   "source": [
    "## 画出数据散点图，并画出拟合直线"
   ]
  },
  {
   "cell_type": "code",
   "execution_count": 39,
   "metadata": {},
   "outputs": [
    {
     "data": {
      "image/png": "[encoded data removed]",
      "text/plain": [
       "<matplotlib.figure.Figure at 0x7fe5c30ce128>"
      ]
     },
     "metadata": {},
     "output_type": "display_data"
    }
   ],
   "source": [
    "\n",
    "\n",
    "xMat = mat(xArr)\n",
    "yMat = mat(yArr)\n",
    "\n",
    "fig = plt.figure()\n",
    "ax  = fig.add_subplot(111)\n",
    "ax.scatter(xMat[:,1].flatten().A[0],yMat.T[:,0].flatten().A[0])\n",
    "\n",
    "xCopy = xMat.copy()\n",
    "xCopy.sort(0)\n",
    "yHat = xCopy*ws\n",
    "ax.plot(xCopy[:,1],yHat,'r')\n",
    "\n",
    "plt.show()# 显示图片"
   ]
  },
  {
   "cell_type": "code",
   "execution_count": 40,
   "metadata": {
    "scrolled": false
   },
   "outputs": [
    {
     "data": {
      "text/plain": [
       "matrix([[0.067732, 0.42781 , 0.995731, 0.738336, 0.981083, 0.526171,\n",
       "         0.378887, 0.033859, 0.132791, 0.138306, 0.247809, 0.64827 ,\n",
       "         0.731209, 0.236833, 0.969788, 0.607492, 0.358622, 0.147846,\n",
       "         0.63782 , 0.230372, 0.070237, 0.067154, 0.925577, 0.717733,\n",
       "         0.015371, 0.33507 , 0.040486, 0.212575, 0.617218, 0.541196,\n",
       "         0.045353, 0.126762, 0.556486, 0.901144, 0.958476, 0.274561,\n",
       "         0.394396, 0.87248 , 0.409932, 0.908969, 0.166819, 0.665016,\n",
       "         0.263727, 0.231214, 0.552928, 0.047744, 0.365746, 0.495002,\n",
       "         0.493466, 0.792101, 0.76966 , 0.251821, 0.181951, 0.808177,\n",
       "         0.334116, 0.33863 , 0.452584, 0.69477 , 0.590902, 0.307928,\n",
       "         0.148364, 0.70218 , 0.721544, 0.666886, 0.124931, 0.618286,\n",
       "         0.381086, 0.385643, 0.777175, 0.116089, 0.115487, 0.66351 ,\n",
       "         0.254884, 0.993888, 0.295434, 0.952523, 0.307047, 0.277261,\n",
       "         0.279101, 0.175724, 0.156383, 0.733165, 0.848142, 0.771184,\n",
       "         0.429492, 0.162176, 0.917064, 0.315044, 0.201473, 0.297038,\n",
       "         0.336647, 0.666109, 0.583888, 0.085031, 0.687006, 0.949655,\n",
       "         0.189912, 0.844027, 0.333288, 0.427035, 0.466369, 0.550659,\n",
       "         0.278213, 0.918769, 0.886555, 0.569488, 0.066379, 0.335751,\n",
       "         0.426863, 0.395746, 0.694221, 0.27276 , 0.503495, 0.067119,\n",
       "         0.038326, 0.599122, 0.947054, 0.671279, 0.434811, 0.509381,\n",
       "         0.749442, 0.058014, 0.482978, 0.466776, 0.357767, 0.949123,\n",
       "         0.41732 , 0.920461, 0.156433, 0.656662, 0.616418, 0.853428,\n",
       "         0.133295, 0.693007, 0.178449, 0.199526, 0.073224, 0.286515,\n",
       "         0.182026, 0.621523, 0.344584, 0.398556, 0.480369, 0.15335 ,\n",
       "         0.171846, 0.867082, 0.223855, 0.528301, 0.890192, 0.106352,\n",
       "         0.917886, 0.014855, 0.567682, 0.068854, 0.603535, 0.53205 ,\n",
       "         0.651362, 0.901225, 0.204337, 0.696081, 0.963924, 0.98139 ,\n",
       "         0.987911, 0.990947, 0.736021, 0.253574, 0.674722, 0.939368,\n",
       "         0.235419, 0.110521, 0.218023, 0.869778, 0.19683 , 0.958178,\n",
       "         0.972673, 0.745797, 0.445674, 0.470557, 0.549236, 0.335691,\n",
       "         0.884739, 0.918916, 0.441815, 0.116598, 0.359274, 0.814811,\n",
       "         0.387125, 0.982243, 0.78088 , 0.652565, 0.87003 , 0.604755,\n",
       "         0.255212, 0.730546, 0.493829, 0.257017, 0.833735, 0.070095,\n",
       "         0.52707 , 0.116163]])"
      ]
     },
     "execution_count": 40,
     "metadata": {},
     "output_type": "execute_result"
    }
   ],
   "source": [
    "xMat[:,1].flatten()\n",
    "# mat(arange(25).reshape((5,5))).flatten()"
   ]
  }
 ],
 "metadata": {
  "kernelspec": {
   "display_name": "Python 3",
   "language": "python",
   "name": "python3"
  },
  "language_info": {
   "codemirror_mode": {
    "name": "ipython",
    "version": 3
   },
   "file_extension": ".py",
   "mimetype": "text/x-python",
   "name": "python",
   "nbconvert_exporter": "python",
   "pygments_lexer": "ipython3",
   "version": "3.6.4"
  }
 },
 "nbformat": 4,
 "nbformat_minor": 2
}
